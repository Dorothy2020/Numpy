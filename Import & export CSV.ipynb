{
 "cells": [
  {
   "cell_type": "code",
   "execution_count": 4,
   "id": "66f9e6e6",
   "metadata": {},
   "outputs": [],
   "source": [
    "\n",
    "! pip install Numpy\n",
    "import Numpy as np\n",
    " import pandas as pd"
   ]
  },
  {
   "cell_type": "code",
   "execution_count": 6,
   "id": "2e9b97be",
   "metadata": {},
   "outputs": [],
   "source": [
    "x = pd.read_csv('/home/dorothy/Downloads/music.csv', header = 0).values\n",
    "print(x)"
   ]
  },
  {
   "cell_type": "code",
   "execution_count": 10,
   "id": "25e5f73c",
   "metadata": {},
   "outputs": [
    {
     "data": {
      "text/plain": [
       "(12079, 14)"
      ]
     },
     "execution_count": 10,
     "metadata": {},
     "output_type": "execute_result"
    }
   ],
   "source": [
    "x.shape"
   ]
  },
  {
   "cell_type": "code",
   "execution_count": 18,
   "id": "211b039a",
   "metadata": {},
   "outputs": [],
   "source": [
    "x = pd.read_csv('/home/dorothy/Downloads/music.csv', usecols = ['ID']).values"
   ]
  },
  {
   "cell_type": "code",
   "execution_count": 15,
   "id": "7e719441",
   "metadata": {},
   "outputs": [
    {
     "name": "stdout",
     "output_type": "stream",
     "text": [
      "[['ID_0040R73']\n",
      " ['ID_0046BNK']\n",
      " ['ID_005QMC3']\n",
      " ...\n",
      " ['ID_ZZIU2XC']\n",
      " ['ID_ZZRQ1NF']\n",
      " ['ID_ZZWRIIE']]\n"
     ]
    }
   ],
   "source": [
    "print(x)"
   ]
  },
  {
   "cell_type": "code",
   "execution_count": 8,
   "id": "b9e13445",
   "metadata": {},
   "outputs": [],
   "source": []
  },
  {
   "cell_type": "code",
   "execution_count": 10,
   "id": "305619b7",
   "metadata": {},
   "outputs": [],
   "source": []
  },
  {
   "cell_type": "code",
   "execution_count": null,
   "id": "244f8144",
   "metadata": {},
   "outputs": [],
   "source": []
  }
 ],
 "metadata": {
  "kernelspec": {
   "display_name": "Python 3 (ipykernel)",
   "language": "python",
   "name": "python3"
  },
  "language_info": {
   "codemirror_mode": {
    "name": "ipython",
    "version": 3
   },
   "file_extension": ".py",
   "mimetype": "text/x-python",
   "name": "python",
   "nbconvert_exporter": "python",
   "pygments_lexer": "ipython3",
   "version": "3.8.10"
  }
 },
 "nbformat": 4,
 "nbformat_minor": 5
}
